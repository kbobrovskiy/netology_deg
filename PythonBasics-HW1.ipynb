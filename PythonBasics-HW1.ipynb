{
 "cells": [
  {
   "cell_type": "markdown",
   "metadata": {},
   "source": [
    "### Задание1\n",
    "Даны 2 переменных, в которых хранятся строки произвольной длины: phrase_1 и phrase_2.\n",
    "Напишите код, который проверяет какая из этих строк длиннее."
   ]
  },
  {
   "cell_type": "code",
   "execution_count": 16,
   "metadata": {
    "scrolled": true
   },
   "outputs": [
    {
     "name": "stdout",
     "output_type": "stream",
     "text": [
      "Введит строку 1 Насколько проще было бы писать программы, если бы не заказчики\n",
      "Введит строку 2 Насколько проще было бы писать программы, если бы не заказчики\n",
      "Фразы равной длины\n"
     ]
    }
   ],
   "source": [
    "phrase_1 = input('Введит строку 1 ')\n",
    "phrase_2 = input('Введит строку 2 ')\n",
    "\n",
    "if len(phrase_1) > len(phrase_2):\n",
    "    print('Фраза 1 длиннее фразы 2')\n",
    "elif len(phrase_1) < len(phrase_2):\n",
    "    print('Фраза 2 длиннее фразы 1')\n",
    "else:\n",
    "    print('Фразы равной длины')"
   ]
  },
  {
   "cell_type": "markdown",
   "metadata": {},
   "source": [
    "### Задание2\n",
    "Дана переменная, в которой хранится четырехзначное число (год). Необходимо написать программу, которая выведет, является ли данный год високосным или обычным."
   ]
  },
  {
   "cell_type": "code",
   "execution_count": 32,
   "metadata": {},
   "outputs": [
    {
     "name": "stdout",
     "output_type": "stream",
     "text": [
      "Введите год для проверки2024\n",
      "Високосный год\n"
     ]
    }
   ],
   "source": [
    "check_year = input('Введите год для проверки ')\n",
    "if int(check_year)%4 == 0:\n",
    "    print('Високосный год')\n",
    "else:\n",
    "    print('Обычный год')"
   ]
  },
  {
   "cell_type": "markdown",
   "metadata": {},
   "source": [
    "### Задание3\n",
    "Необходимо написать программу, которая будет запрашивать у пользователя месяц и дату рождения и выводить соответствующий знак зодиака."
   ]
  },
  {
   "cell_type": "code",
   "execution_count": 53,
   "metadata": {},
   "outputs": [
    {
     "name": "stdout",
     "output_type": "stream",
     "text": [
      "Введите месяц рождения март\n",
      "Введите день рождения 9\n",
      "2020-03-09\n",
      "Ваш знак зодиака: Рыбы\n"
     ]
    }
   ],
   "source": [
    "import datetime as dt\n",
    "\n",
    "months_dic = {\n",
    "    \"январь\": 1,\n",
    "    \"февраль\": 2,\n",
    "    \"март\": 3,\n",
    "    \"апрель\": 4,\n",
    "    \"май\": 5,\n",
    "    \"июнь\": 6,\n",
    "    \"июль\": 7,\n",
    "    \"август\": 8,\n",
    "    \"сентябрь\": 9,\n",
    "    \"октябрь\": 10,\n",
    "    \"ноябрь\": 11,\n",
    "    \"декабрь\": 12\n",
    "}\n",
    "month_birth = input('Введите месяц рождения ')\n",
    "day_birth = input('Введите день рождения ')\n",
    "\n",
    "birthday = dt.date(2020, months_dic[month_birth.lower()], int(day_birth))\n",
    "\n",
    "if birthday >= dt.date(2020,3,21) and birthday <= dt.date(2020,4,20):\n",
    "    print('Ваш знак зодиака: Овен')\n",
    "elif birthday >= dt.date(2020,4,21) and birthday <= dt.date(2020,5,20):\n",
    "    print('Ваш знак зодиака: Телец')\n",
    "if birthday >= dt.date(2020,5,21) and birthday <= dt.date(2020,6,21):\n",
    "    print('Ваш знак зодиака: Близнецы')\n",
    "if birthday >= dt.date(2020,6,22) and birthday <= dt.date(2020,7,22):\n",
    "    print('Ваш знак зодиака: Рак')\n",
    "if birthday >= dt.date(2020,7,23) and birthday <= dt.date(2020,8,22):\n",
    "    print('Ваш знак зодиака: Лев')\n",
    "if birthday >= dt.date(2020,8,23) and birthday <= dt.date(2020,9,22):\n",
    "    print('Ваш знак зодиака: Дева')\n",
    "if birthday >= dt.date(2020,9,23) and birthday <= dt.date(2020,10,22):\n",
    "    print('Ваш знак зодиака: Весы')\n",
    "if birthday >= dt.date(2020,10,23) and birthday <= dt.date(2020,11,21):\n",
    "    print('Ваш знак зодиака: Скорпион')\n",
    "if birthday >= dt.date(2020,11,22) and birthday <= dt.date(2020,12,20):\n",
    "    print('Ваш знак зодиака: Стрелец')\n",
    "if birthday >= dt.date(2020,12,21) and birthday <= dt.date(2020,1,19):\n",
    "    print('Ваш знак зодиака: Козерог')\n",
    "if birthday >= dt.date(2020,1,20) and birthday <= dt.date(2020,2,19):\n",
    "    print('Ваш знак зодиака: Водолей')\n",
    "if birthday >= dt.date(2020,2,20) and birthday <= dt.date(2020,3,20):\n",
    "    print('Ваш знак зодиака: Рыбы')\n",
    "else:\n",
    "    print('Вы неправильно ввели месяц и день рождения')"
   ]
  },
  {
   "cell_type": "markdown",
   "metadata": {},
   "source": [
    "### Задание4\n",
    "Вам нужно написать программу для подбора упаковок по размерам товара. Размеры (ширина, длина, высота) хранятся в переменных (в сантиметрах):\n",
    "Используйте следующие правила:\n",
    "\n",
    "- если каждое из трех измерений менее или равно 15 сантиметрам, то выведите на экран \"Коробка №1\";\n",
    "- если хотя бы одно из измерений больше 15 сантиметров, но менее 50 сантиметров, то выводите \"Коробка №2\";\n",
    "- если длина товара больше 2 метров, то выводите \"Упаковка для лыж\";\n",
    "- во всех остальных случаях выводите \"Стандартная коробка №3\"."
   ]
  },
  {
   "cell_type": "code",
   "execution_count": 59,
   "metadata": {},
   "outputs": [
    {
     "name": "stdout",
     "output_type": "stream",
     "text": [
      "width= 45\n",
      "length= 205\n",
      "height= 45\n",
      "Упаковка для лыж\n"
     ]
    }
   ],
   "source": [
    "width = int(input('width= '))\n",
    "length = int(input('length= '))\n",
    "height = int(input('height= '))\n",
    "if width < 15 and length < 15 and height < 15:\n",
    "    print('Коробка №1')\n",
    "elif length > 200:\n",
    "    print('Упаковка для лыж')\n",
    "elif (15 < width < 50) or (15 < length < 50) or (15 < height < 50):\n",
    "    print('Коробка №2')\n",
    "else:\n",
    "    print('Стандартная коробка №3')"
   ]
  },
  {
   "cell_type": "markdown",
   "metadata": {},
   "source": [
    "### Задание5\n",
    "Дана переменная, в которой хранится шестизначное число (номер проездного билета). Напишите программу, которая будет определять, является ли данный билет \"счастливым\". Билет считается счастливым, если сумма первых трех цифр совпадает с суммой последних трех цифр номера."
   ]
  },
  {
   "cell_type": "code",
   "execution_count": 32,
   "metadata": {},
   "outputs": [
    {
     "name": "stdout",
     "output_type": "stream",
     "text": [
      "Введите номер билета 6 цифр 111112\n",
      "Не счастливый билет\n"
     ]
    }
   ],
   "source": [
    "import sys\n",
    "ticket_number = input('Введите номер билета 6 цифр ')\n",
    "if not (100000 < int(ticket_number) < 999999):\n",
    "    sys.exit('Вы ввели неверный номер. Программа завершится')\n",
    "elif sum(int(i) for i in ticket_number[0:3]) == sum(int(i) for i in ticket_number[3:6]):\n",
    "    print('Счастливый билет')\n",
    "else:\n",
    "    print('Не счастливый билет')\n",
    "#print(sum(int(ticket_number[0:3].int()))\n",
    "#print(int(ticket_number[0]) + int(ticket_number[1]) + int(ticket_number[2])) == (print(int(ticket_number[0]) + int(ticket_number[1]) + int(ticket_number[2])))\n"
   ]
  },
  {
   "cell_type": "code",
   "execution_count": 13,
   "metadata": {},
   "outputs": [
    {
     "data": {
      "text/plain": [
       "'3.6.4 |Anaconda, Inc.| (default, Jan 16 2018, 10:22:32) [MSC v.1900 64 bit (AMD64)]'"
      ]
     },
     "execution_count": 13,
     "metadata": {},
     "output_type": "execute_result"
    }
   ],
   "source": [
    "import sys\n",
    "sys.version"
   ]
  },
  {
   "cell_type": "markdown",
   "metadata": {},
   "source": [
    "### Задание6\n",
    "Напишите программу, которая сможет вычислять площади трех фигур (круг, треугольник и прямоугольник). Тип фигуры запрашиваем через пользовательский ввод, после чего делаем запрос характеристик фигуры:\n",
    "\n",
    "- если пользователь выбрал круг, запрашиваем его радиус,\n",
    "- если треугольник – длины трех его сторон;\n",
    "- если прямоугольник – длины двух его сторон."
   ]
  }
 ],
 "metadata": {
  "kernelspec": {
   "display_name": "Python 3",
   "language": "python",
   "name": "python3"
  },
  "language_info": {
   "codemirror_mode": {
    "name": "ipython",
    "version": 3
   },
   "file_extension": ".py",
   "mimetype": "text/x-python",
   "name": "python",
   "nbconvert_exporter": "python",
   "pygments_lexer": "ipython3",
   "version": "3.6.4"
  }
 },
 "nbformat": 4,
 "nbformat_minor": 2
}
